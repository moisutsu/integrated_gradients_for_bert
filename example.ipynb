{
 "cells": [
  {
   "cell_type": "code",
   "execution_count": 1,
   "id": "6a05d706-5638-4ef2-837d-879aa76a63ae",
   "metadata": {},
   "outputs": [],
   "source": [
    "import torch\n",
    "from torch import Tensor\n",
    "from torch.nn.functional import softmax\n",
    "from captum.attr import LayerIntegratedGradients\n",
    "from captum.attr import visualization as viz\n",
    "from transformers import AutoTokenizer, AutoModelForSequenceClassification, BatchEncoding, PreTrainedTokenizer"
   ]
  },
  {
   "cell_type": "code",
   "execution_count": 2,
   "id": "04d6399d-b9dd-4e5b-9435-e4d88ef4b7e5",
   "metadata": {},
   "outputs": [],
   "source": [
    "# device, model, tokenizerを準備\n",
    "device = torch.device(\"cuda:0\" if torch.cuda.is_available() else \"cpu\")\n",
    "\n",
    "model_name = \"abhishek/autonlp-japanese-sentiment-59363\"\n",
    "model = AutoModelForSequenceClassification.from_pretrained(model_name).to(device)\n",
    "\n",
    "tokenizer = AutoTokenizer.from_pretrained(model_name)"
   ]
  },
  {
   "cell_type": "code",
   "execution_count": 3,
   "id": "fa194db4-1927-431f-9b3a-f94030b919bb",
   "metadata": {},
   "outputs": [],
   "source": [
    "# modelを使って予測する関数を定義\n",
    "def predict(\n",
    "    input_ids: Tensor,\n",
    "    token_type_ids: Tensor,\n",
    "    attention_mask: Tensor,\n",
    ") -> Tensor:\n",
    "    return model(\n",
    "        input_ids=input_ids,\n",
    "        token_type_ids=token_type_ids,\n",
    "        attention_mask=attention_mask,\n",
    "    ).logits"
   ]
  },
  {
   "cell_type": "code",
   "execution_count": 4,
   "id": "623e7d0d-3ec1-4944-ba13-dbc2ac37955d",
   "metadata": {},
   "outputs": [],
   "source": [
    "# predict関数への入力を準備する関数を定義\n",
    "def prepare_input(tokenizer: PreTrainedTokenizer, text: str, device: torch.device) -> BatchEncoding:\n",
    "    return tokenizer(\n",
    "        text, truncation=True, max_length=512, return_tensors=\"pt\"\n",
    "    ).to(device)"
   ]
  },
  {
   "cell_type": "code",
   "execution_count": 5,
   "id": "50dc62d8-5e11-48b9-83cd-9e13c8ab8524",
   "metadata": {},
   "outputs": [],
   "source": [
    "# 各単語埋め込みの各次元の予測への寄与度から、各単語埋め込みの予測への寄与度を計算する関数を定義\n",
    "# [入力系列長 x 単語埋め込みの次元]の行列から[入力系列長]の行列に変換\n",
    "# 単語埋め込みの寄与度には、単語埋め込みの各次元の予測への寄与度の合計を利用\n",
    "def summarize_attributions(attributions: Tensor) -> Tensor:\n",
    "    attributions = attributions.sum(dim=-1).flatten()\n",
    "    attributions = attributions / torch.norm(attributions)\n",
    "    return attributions"
   ]
  },
  {
   "cell_type": "code",
   "execution_count": 6,
   "id": "139a6ec4-a3ba-4cbd-88ec-53dcc7df8c23",
   "metadata": {},
   "outputs": [],
   "source": [
    "# 予測を行う関数と、Integrated Gradientsを計算する層を渡す\n",
    "lig = LayerIntegratedGradients(predict, model.bert.embeddings)"
   ]
  },
  {
   "cell_type": "code",
   "execution_count": 7,
   "id": "41ec3ed3-b617-4b80-a599-dc3331292d7d",
   "metadata": {},
   "outputs": [],
   "source": [
    "# 分析対象のインスタンスを準備\n",
    "input_text = \"この服は着心地が良く、購入して大正解でした！ただ、梱包が悪かった部分は残念でした...\"\n",
    "gold_label = 1"
   ]
  },
  {
   "cell_type": "code",
   "execution_count": 8,
   "id": "058bda82-a538-4158-b9bc-b337b495d6a7",
   "metadata": {},
   "outputs": [],
   "source": [
    "# 入力テキストをエンコード\n",
    "ids = prepare_input(tokenizer, input_text, device)\n",
    "\n",
    "# ベースラインとなる入力を作成\n",
    "# エンコードした入力テキストのうち、[CLS]と[SEP]以外のトークンを[PAD]に置き換える\n",
    "baselines = ids.input_ids.clone()\n",
    "baselines[(baselines != tokenizer.cls_token_id) * (baselines != tokenizer.sep_token_id)] = tokenizer.pad_token_id\n",
    "\n",
    "# Integrated Gradientsを計算\n",
    "attributions, delta = lig.attribute(\n",
    "    # 入力のうち、寄与度を計算したい入力を指定\n",
    "    inputs=ids.input_ids,\n",
    "\n",
    "    baselines=baselines,\n",
    "    \n",
    "    # 入力のうち、寄与度を計算しない入力を指定\n",
    "    additional_forward_args=(ids.token_type_ids, ids.attention_mask),\n",
    "    return_convergence_delta=True,\n",
    "    \n",
    "    # 正解ラベルを指定 (回帰タスクの場合は不要)\n",
    "    target=gold_label\n",
    ")\n",
    "attributions_sum = summarize_attributions(attributions)"
   ]
  },
  {
   "cell_type": "code",
   "execution_count": 9,
   "id": "268ba83a-8fb0-43d3-8465-5d9816cef322",
   "metadata": {},
   "outputs": [],
   "source": [
    "score = predict(**ids)\n",
    "pred_prob = softmax(score, dim=1).flatten().max().item()\n",
    "pred_label = score.argmax().item()\n",
    "\n",
    "tokens = tokenizer.convert_ids_to_tokens(ids.input_ids[0])\n",
    "\n",
    "# 可視化のための情報を集約\n",
    "result_vis = viz.VisualizationDataRecord(\n",
    "    attributions_sum,\n",
    "    pred_prob,\n",
    "    pred_label,\n",
    "    gold_label,\n",
    "    gold_label,\n",
    "    attributions_sum.sum(),\n",
    "    tokens,\n",
    "    delta\n",
    ")"
   ]
  },
  {
   "cell_type": "code",
   "execution_count": 10,
   "id": "19a8a933-7a96-4887-b4f9-c4cebe10ae97",
   "metadata": {},
   "outputs": [
    {
     "data": {
      "text/html": [
       "<table width: 100%><div style=\"border-top: 1px solid; margin-top: 5px;             padding-top: 5px; display: inline-block\"><b>Legend: </b><span style=\"display: inline-block; width: 10px; height: 10px;                 border: 1px solid; background-color:                 hsl(0, 75%, 60%)\"></span> Negative  <span style=\"display: inline-block; width: 10px; height: 10px;                 border: 1px solid; background-color:                 hsl(0, 75%, 100%)\"></span> Neutral  <span style=\"display: inline-block; width: 10px; height: 10px;                 border: 1px solid; background-color:                 hsl(120, 75%, 50%)\"></span> Positive  </div><tr><th>True Label</th><th>Predicted Label</th><th>Attribution Label</th><th>Attribution Score</th><th>Word Importance</th><tr><td><text style=\"padding-right:2em\"><b>1</b></text></td><td><text style=\"padding-right:2em\"><b>1 (1.00)</b></text></td><td><text style=\"padding-right:2em\"><b>1</b></text></td><td><text style=\"padding-right:2em\"><b>1.84</b></text></td><td><mark style=\"background-color: hsl(0, 75%, 100%); opacity:1.0;                     line-height:1.75\"><font color=\"black\"> [CLS]                    </font></mark><mark style=\"background-color: hsl(120, 75%, 88%); opacity:1.0;                     line-height:1.75\"><font color=\"black\"> この                    </font></mark><mark style=\"background-color: hsl(120, 75%, 100%); opacity:1.0;                     line-height:1.75\"><font color=\"black\"> 服                    </font></mark><mark style=\"background-color: hsl(120, 75%, 100%); opacity:1.0;                     line-height:1.75\"><font color=\"black\"> は                    </font></mark><mark style=\"background-color: hsl(120, 75%, 98%); opacity:1.0;                     line-height:1.75\"><font color=\"black\"> 着                    </font></mark><mark style=\"background-color: hsl(120, 75%, 100%); opacity:1.0;                     line-height:1.75\"><font color=\"black\"> ##心                    </font></mark><mark style=\"background-color: hsl(0, 75%, 100%); opacity:1.0;                     line-height:1.75\"><font color=\"black\"> ##地                    </font></mark><mark style=\"background-color: hsl(120, 75%, 95%); opacity:1.0;                     line-height:1.75\"><font color=\"black\"> が                    </font></mark><mark style=\"background-color: hsl(120, 75%, 87%); opacity:1.0;                     line-height:1.75\"><font color=\"black\"> 良く                    </font></mark><mark style=\"background-color: hsl(120, 75%, 96%); opacity:1.0;                     line-height:1.75\"><font color=\"black\"> 、                    </font></mark><mark style=\"background-color: hsl(0, 75%, 98%); opacity:1.0;                     line-height:1.75\"><font color=\"black\"> 購入                    </font></mark><mark style=\"background-color: hsl(0, 75%, 99%); opacity:1.0;                     line-height:1.75\"><font color=\"black\"> し                    </font></mark><mark style=\"background-color: hsl(0, 75%, 99%); opacity:1.0;                     line-height:1.75\"><font color=\"black\"> て                    </font></mark><mark style=\"background-color: hsl(120, 75%, 73%); opacity:1.0;                     line-height:1.75\"><font color=\"black\"> 大                    </font></mark><mark style=\"background-color: hsl(120, 75%, 82%); opacity:1.0;                     line-height:1.75\"><font color=\"black\"> 正解                    </font></mark><mark style=\"background-color: hsl(120, 75%, 99%); opacity:1.0;                     line-height:1.75\"><font color=\"black\"> でし                    </font></mark><mark style=\"background-color: hsl(120, 75%, 95%); opacity:1.0;                     line-height:1.75\"><font color=\"black\"> た                    </font></mark><mark style=\"background-color: hsl(120, 75%, 94%); opacity:1.0;                     line-height:1.75\"><font color=\"black\"> !                    </font></mark><mark style=\"background-color: hsl(120, 75%, 95%); opacity:1.0;                     line-height:1.75\"><font color=\"black\"> ただ                    </font></mark><mark style=\"background-color: hsl(0, 75%, 100%); opacity:1.0;                     line-height:1.75\"><font color=\"black\"> 、                    </font></mark><mark style=\"background-color: hsl(0, 75%, 98%); opacity:1.0;                     line-height:1.75\"><font color=\"black\"> 梱                    </font></mark><mark style=\"background-color: hsl(120, 75%, 99%); opacity:1.0;                     line-height:1.75\"><font color=\"black\"> ##包                    </font></mark><mark style=\"background-color: hsl(0, 75%, 100%); opacity:1.0;                     line-height:1.75\"><font color=\"black\"> が                    </font></mark><mark style=\"background-color: hsl(120, 75%, 100%); opacity:1.0;                     line-height:1.75\"><font color=\"black\"> 悪かっ                    </font></mark><mark style=\"background-color: hsl(120, 75%, 95%); opacity:1.0;                     line-height:1.75\"><font color=\"black\"> た                    </font></mark><mark style=\"background-color: hsl(0, 75%, 99%); opacity:1.0;                     line-height:1.75\"><font color=\"black\"> 部分                    </font></mark><mark style=\"background-color: hsl(120, 75%, 93%); opacity:1.0;                     line-height:1.75\"><font color=\"black\"> は                    </font></mark><mark style=\"background-color: hsl(0, 75%, 79%); opacity:1.0;                     line-height:1.75\"><font color=\"black\"> 残念                    </font></mark><mark style=\"background-color: hsl(120, 75%, 99%); opacity:1.0;                     line-height:1.75\"><font color=\"black\"> でし                    </font></mark><mark style=\"background-color: hsl(120, 75%, 97%); opacity:1.0;                     line-height:1.75\"><font color=\"black\"> た                    </font></mark><mark style=\"background-color: hsl(120, 75%, 97%); opacity:1.0;                     line-height:1.75\"><font color=\"black\"> .                    </font></mark><mark style=\"background-color: hsl(120, 75%, 98%); opacity:1.0;                     line-height:1.75\"><font color=\"black\"> .                    </font></mark><mark style=\"background-color: hsl(120, 75%, 100%); opacity:1.0;                     line-height:1.75\"><font color=\"black\"> .                    </font></mark><mark style=\"background-color: hsl(0, 75%, 100%); opacity:1.0;                     line-height:1.75\"><font color=\"black\"> [SEP]                    </font></mark></td><tr></table>"
      ],
      "text/plain": [
       "<IPython.core.display.HTML object>"
      ]
     },
     "metadata": {},
     "output_type": "display_data"
    },
    {
     "data": {
      "text/html": [
       "<table width: 100%><div style=\"border-top: 1px solid; margin-top: 5px;             padding-top: 5px; display: inline-block\"><b>Legend: </b><span style=\"display: inline-block; width: 10px; height: 10px;                 border: 1px solid; background-color:                 hsl(0, 75%, 60%)\"></span> Negative  <span style=\"display: inline-block; width: 10px; height: 10px;                 border: 1px solid; background-color:                 hsl(0, 75%, 100%)\"></span> Neutral  <span style=\"display: inline-block; width: 10px; height: 10px;                 border: 1px solid; background-color:                 hsl(120, 75%, 50%)\"></span> Positive  </div><tr><th>True Label</th><th>Predicted Label</th><th>Attribution Label</th><th>Attribution Score</th><th>Word Importance</th><tr><td><text style=\"padding-right:2em\"><b>1</b></text></td><td><text style=\"padding-right:2em\"><b>1 (1.00)</b></text></td><td><text style=\"padding-right:2em\"><b>1</b></text></td><td><text style=\"padding-right:2em\"><b>1.84</b></text></td><td><mark style=\"background-color: hsl(0, 75%, 100%); opacity:1.0;                     line-height:1.75\"><font color=\"black\"> [CLS]                    </font></mark><mark style=\"background-color: hsl(120, 75%, 88%); opacity:1.0;                     line-height:1.75\"><font color=\"black\"> この                    </font></mark><mark style=\"background-color: hsl(120, 75%, 100%); opacity:1.0;                     line-height:1.75\"><font color=\"black\"> 服                    </font></mark><mark style=\"background-color: hsl(120, 75%, 100%); opacity:1.0;                     line-height:1.75\"><font color=\"black\"> は                    </font></mark><mark style=\"background-color: hsl(120, 75%, 98%); opacity:1.0;                     line-height:1.75\"><font color=\"black\"> 着                    </font></mark><mark style=\"background-color: hsl(120, 75%, 100%); opacity:1.0;                     line-height:1.75\"><font color=\"black\"> ##心                    </font></mark><mark style=\"background-color: hsl(0, 75%, 100%); opacity:1.0;                     line-height:1.75\"><font color=\"black\"> ##地                    </font></mark><mark style=\"background-color: hsl(120, 75%, 95%); opacity:1.0;                     line-height:1.75\"><font color=\"black\"> が                    </font></mark><mark style=\"background-color: hsl(120, 75%, 87%); opacity:1.0;                     line-height:1.75\"><font color=\"black\"> 良く                    </font></mark><mark style=\"background-color: hsl(120, 75%, 96%); opacity:1.0;                     line-height:1.75\"><font color=\"black\"> 、                    </font></mark><mark style=\"background-color: hsl(0, 75%, 98%); opacity:1.0;                     line-height:1.75\"><font color=\"black\"> 購入                    </font></mark><mark style=\"background-color: hsl(0, 75%, 99%); opacity:1.0;                     line-height:1.75\"><font color=\"black\"> し                    </font></mark><mark style=\"background-color: hsl(0, 75%, 99%); opacity:1.0;                     line-height:1.75\"><font color=\"black\"> て                    </font></mark><mark style=\"background-color: hsl(120, 75%, 73%); opacity:1.0;                     line-height:1.75\"><font color=\"black\"> 大                    </font></mark><mark style=\"background-color: hsl(120, 75%, 82%); opacity:1.0;                     line-height:1.75\"><font color=\"black\"> 正解                    </font></mark><mark style=\"background-color: hsl(120, 75%, 99%); opacity:1.0;                     line-height:1.75\"><font color=\"black\"> でし                    </font></mark><mark style=\"background-color: hsl(120, 75%, 95%); opacity:1.0;                     line-height:1.75\"><font color=\"black\"> た                    </font></mark><mark style=\"background-color: hsl(120, 75%, 94%); opacity:1.0;                     line-height:1.75\"><font color=\"black\"> !                    </font></mark><mark style=\"background-color: hsl(120, 75%, 95%); opacity:1.0;                     line-height:1.75\"><font color=\"black\"> ただ                    </font></mark><mark style=\"background-color: hsl(0, 75%, 100%); opacity:1.0;                     line-height:1.75\"><font color=\"black\"> 、                    </font></mark><mark style=\"background-color: hsl(0, 75%, 98%); opacity:1.0;                     line-height:1.75\"><font color=\"black\"> 梱                    </font></mark><mark style=\"background-color: hsl(120, 75%, 99%); opacity:1.0;                     line-height:1.75\"><font color=\"black\"> ##包                    </font></mark><mark style=\"background-color: hsl(0, 75%, 100%); opacity:1.0;                     line-height:1.75\"><font color=\"black\"> が                    </font></mark><mark style=\"background-color: hsl(120, 75%, 100%); opacity:1.0;                     line-height:1.75\"><font color=\"black\"> 悪かっ                    </font></mark><mark style=\"background-color: hsl(120, 75%, 95%); opacity:1.0;                     line-height:1.75\"><font color=\"black\"> た                    </font></mark><mark style=\"background-color: hsl(0, 75%, 99%); opacity:1.0;                     line-height:1.75\"><font color=\"black\"> 部分                    </font></mark><mark style=\"background-color: hsl(120, 75%, 93%); opacity:1.0;                     line-height:1.75\"><font color=\"black\"> は                    </font></mark><mark style=\"background-color: hsl(0, 75%, 79%); opacity:1.0;                     line-height:1.75\"><font color=\"black\"> 残念                    </font></mark><mark style=\"background-color: hsl(120, 75%, 99%); opacity:1.0;                     line-height:1.75\"><font color=\"black\"> でし                    </font></mark><mark style=\"background-color: hsl(120, 75%, 97%); opacity:1.0;                     line-height:1.75\"><font color=\"black\"> た                    </font></mark><mark style=\"background-color: hsl(120, 75%, 97%); opacity:1.0;                     line-height:1.75\"><font color=\"black\"> .                    </font></mark><mark style=\"background-color: hsl(120, 75%, 98%); opacity:1.0;                     line-height:1.75\"><font color=\"black\"> .                    </font></mark><mark style=\"background-color: hsl(120, 75%, 100%); opacity:1.0;                     line-height:1.75\"><font color=\"black\"> .                    </font></mark><mark style=\"background-color: hsl(0, 75%, 100%); opacity:1.0;                     line-height:1.75\"><font color=\"black\"> [SEP]                    </font></mark></td><tr></table>"
      ],
      "text/plain": [
       "<IPython.core.display.HTML object>"
      ]
     },
     "execution_count": 10,
     "metadata": {},
     "output_type": "execute_result"
    }
   ],
   "source": [
    "# 可視化\n",
    "viz.visualize_text([result_vis])"
   ]
  },
  {
   "cell_type": "code",
   "execution_count": 11,
   "id": "98c6c883-dbd9-4ac8-9580-60c35f4740b9",
   "metadata": {},
   "outputs": [],
   "source": [
    "# Integrated Gradientsによる分析は、ラップするクラスを作成すると便利\n",
    "class IntegratedGradientsForBert:\n",
    "    def __init__(self, model_name: str, gpu: int):\n",
    "        self.model_name = model_name\n",
    "        self.gpu = gpu\n",
    "        \n",
    "        self.device = torch.device(f\"cuda:{self.gpu}\" if torch.cuda.is_available() else \"cpu\")\n",
    "\n",
    "        self.model = AutoModelForSequenceClassification.from_pretrained(self.model_name).to(self.device)\n",
    "        self.tokenizer: PreTrainedTokenizer = AutoTokenizer.from_pretrained(self.model_name)\n",
    "\n",
    "        self.lig = LayerIntegratedGradients(\n",
    "            self.predict_with_model, self.model.bert.embeddings\n",
    "        )\n",
    "\n",
    "    def predict_with_model(self, input_ids: Tensor, token_type_ids: Tensor, attention_mask: Tensor) -> Tensor:\n",
    "        return self.model(\n",
    "            input_ids=input_ids,\n",
    "            token_type_ids=token_type_ids,\n",
    "            attention_mask=attention_mask\n",
    "        ).logits\n",
    "\n",
    "    def prepare_inputs(self, text: str) -> BatchEncoding:\n",
    "        return self.tokenizer(\n",
    "            text, truncation=True, max_length=512, return_tensors=\"pt\"\n",
    "        ).to(self.device)\n",
    "\n",
    "    @staticmethod\n",
    "    def summarize_attributions(attributions: Tensor) -> Tensor:\n",
    "        attributions = attributions.sum(dim=-1).squeeze(0)\n",
    "        attributions = attributions / torch.norm(attributions)\n",
    "        return attributions\n",
    "\n",
    "    def calculate_summarized_attributions(self, ids: BatchEncoding, gold_class: int) -> tuple[Tensor, Tensor]:\n",
    "        # baseline: [CLS][PAD][PAD]...[SEP][PAD][PAD]...[SEP]\n",
    "        baselines = ids.input_ids.clone()\n",
    "        baselines[(baselines != self.tokenizer.cls_token_id) * (baselines != self.tokenizer.sep_token_id)] = self.tokenizer.pad_token_id\n",
    "\n",
    "        attributions, delta = self.lig.attribute(\n",
    "            inputs=ids.input_ids,\n",
    "            baselines=baselines,\n",
    "            additional_forward_args=(ids.token_type_ids, ids.attention_mask),\n",
    "            return_convergence_delta=True,\n",
    "            target=gold_class\n",
    "        )\n",
    "\n",
    "        summarized_attributions = self.summarize_attributions(attributions)\n",
    "\n",
    "        return summarized_attributions, delta\n",
    "\n",
    "    def generate_attributions_for_visualize(self, text: str, gold_class: int) -> tuple[Tensor, Tensor, float, list[str]]:\n",
    "        ids = self.prepare_inputs(text)\n",
    "\n",
    "        summarized_attributions, delta = self.calculate_summarized_attributions(ids, gold_class)\n",
    "        prediction = self.predict_with_model(**ids)\n",
    "        tokens = self.tokenizer.convert_ids_to_tokens(ids.input_ids[0])\n",
    "\n",
    "        return summarized_attributions, delta, prediction, tokens\n",
    "\n",
    "    def visualize_attributions(self, text: str, gold_class: int):\n",
    "        summarized_attributions, delta, prediction, tokens = self.generate_attributions_for_visualize(text, gold_class)\n",
    "\n",
    "        pred_prob = softmax(prediction, dim=1).flatten().max().item()\n",
    "        pred_class = prediction.argmax().item()\n",
    "\n",
    "        attributions_for_visualization = viz.VisualizationDataRecord(\n",
    "            word_attributions=summarized_attributions,\n",
    "            pred_prob=pred_prob,\n",
    "            pred_class=pred_class,\n",
    "            true_class=gold_class,\n",
    "            attr_class=gold_class,\n",
    "            attr_score=summarized_attributions.sum(),\n",
    "            raw_input_ids=tokens,\n",
    "            convergence_score=delta\n",
    "        )\n",
    "\n",
    "        viz.visualize_text([attributions_for_visualization])"
   ]
  },
  {
   "cell_type": "code",
   "execution_count": 12,
   "id": "073504cc-b364-481d-85b7-a41ecfae4fcb",
   "metadata": {},
   "outputs": [],
   "source": [
    "model_name = \"abhishek/autonlp-japanese-sentiment-59363\"\n",
    "gpu = 0\n",
    "\n",
    "igm = IntegratedGradientsForBert(model_name, gpu)"
   ]
  },
  {
   "cell_type": "code",
   "execution_count": 13,
   "id": "b56d02b9-fa17-43dd-a8fa-b76bf1193614",
   "metadata": {},
   "outputs": [
    {
     "data": {
      "text/html": [
       "<table width: 100%><div style=\"border-top: 1px solid; margin-top: 5px;             padding-top: 5px; display: inline-block\"><b>Legend: </b><span style=\"display: inline-block; width: 10px; height: 10px;                 border: 1px solid; background-color:                 hsl(0, 75%, 60%)\"></span> Negative  <span style=\"display: inline-block; width: 10px; height: 10px;                 border: 1px solid; background-color:                 hsl(0, 75%, 100%)\"></span> Neutral  <span style=\"display: inline-block; width: 10px; height: 10px;                 border: 1px solid; background-color:                 hsl(120, 75%, 50%)\"></span> Positive  </div><tr><th>True Label</th><th>Predicted Label</th><th>Attribution Label</th><th>Attribution Score</th><th>Word Importance</th><tr><td><text style=\"padding-right:2em\"><b>1</b></text></td><td><text style=\"padding-right:2em\"><b>1 (1.00)</b></text></td><td><text style=\"padding-right:2em\"><b>1</b></text></td><td><text style=\"padding-right:2em\"><b>1.84</b></text></td><td><mark style=\"background-color: hsl(0, 75%, 100%); opacity:1.0;                     line-height:1.75\"><font color=\"black\"> [CLS]                    </font></mark><mark style=\"background-color: hsl(120, 75%, 88%); opacity:1.0;                     line-height:1.75\"><font color=\"black\"> この                    </font></mark><mark style=\"background-color: hsl(120, 75%, 100%); opacity:1.0;                     line-height:1.75\"><font color=\"black\"> 服                    </font></mark><mark style=\"background-color: hsl(120, 75%, 100%); opacity:1.0;                     line-height:1.75\"><font color=\"black\"> は                    </font></mark><mark style=\"background-color: hsl(120, 75%, 98%); opacity:1.0;                     line-height:1.75\"><font color=\"black\"> 着                    </font></mark><mark style=\"background-color: hsl(120, 75%, 100%); opacity:1.0;                     line-height:1.75\"><font color=\"black\"> ##心                    </font></mark><mark style=\"background-color: hsl(0, 75%, 100%); opacity:1.0;                     line-height:1.75\"><font color=\"black\"> ##地                    </font></mark><mark style=\"background-color: hsl(120, 75%, 95%); opacity:1.0;                     line-height:1.75\"><font color=\"black\"> が                    </font></mark><mark style=\"background-color: hsl(120, 75%, 87%); opacity:1.0;                     line-height:1.75\"><font color=\"black\"> 良く                    </font></mark><mark style=\"background-color: hsl(120, 75%, 96%); opacity:1.0;                     line-height:1.75\"><font color=\"black\"> 、                    </font></mark><mark style=\"background-color: hsl(0, 75%, 98%); opacity:1.0;                     line-height:1.75\"><font color=\"black\"> 購入                    </font></mark><mark style=\"background-color: hsl(0, 75%, 99%); opacity:1.0;                     line-height:1.75\"><font color=\"black\"> し                    </font></mark><mark style=\"background-color: hsl(0, 75%, 99%); opacity:1.0;                     line-height:1.75\"><font color=\"black\"> て                    </font></mark><mark style=\"background-color: hsl(120, 75%, 73%); opacity:1.0;                     line-height:1.75\"><font color=\"black\"> 大                    </font></mark><mark style=\"background-color: hsl(120, 75%, 82%); opacity:1.0;                     line-height:1.75\"><font color=\"black\"> 正解                    </font></mark><mark style=\"background-color: hsl(120, 75%, 99%); opacity:1.0;                     line-height:1.75\"><font color=\"black\"> でし                    </font></mark><mark style=\"background-color: hsl(120, 75%, 95%); opacity:1.0;                     line-height:1.75\"><font color=\"black\"> た                    </font></mark><mark style=\"background-color: hsl(120, 75%, 94%); opacity:1.0;                     line-height:1.75\"><font color=\"black\"> !                    </font></mark><mark style=\"background-color: hsl(120, 75%, 95%); opacity:1.0;                     line-height:1.75\"><font color=\"black\"> ただ                    </font></mark><mark style=\"background-color: hsl(0, 75%, 100%); opacity:1.0;                     line-height:1.75\"><font color=\"black\"> 、                    </font></mark><mark style=\"background-color: hsl(0, 75%, 98%); opacity:1.0;                     line-height:1.75\"><font color=\"black\"> 梱                    </font></mark><mark style=\"background-color: hsl(120, 75%, 99%); opacity:1.0;                     line-height:1.75\"><font color=\"black\"> ##包                    </font></mark><mark style=\"background-color: hsl(0, 75%, 100%); opacity:1.0;                     line-height:1.75\"><font color=\"black\"> が                    </font></mark><mark style=\"background-color: hsl(120, 75%, 100%); opacity:1.0;                     line-height:1.75\"><font color=\"black\"> 悪かっ                    </font></mark><mark style=\"background-color: hsl(120, 75%, 95%); opacity:1.0;                     line-height:1.75\"><font color=\"black\"> た                    </font></mark><mark style=\"background-color: hsl(0, 75%, 99%); opacity:1.0;                     line-height:1.75\"><font color=\"black\"> 部分                    </font></mark><mark style=\"background-color: hsl(120, 75%, 93%); opacity:1.0;                     line-height:1.75\"><font color=\"black\"> は                    </font></mark><mark style=\"background-color: hsl(0, 75%, 79%); opacity:1.0;                     line-height:1.75\"><font color=\"black\"> 残念                    </font></mark><mark style=\"background-color: hsl(120, 75%, 99%); opacity:1.0;                     line-height:1.75\"><font color=\"black\"> でし                    </font></mark><mark style=\"background-color: hsl(120, 75%, 97%); opacity:1.0;                     line-height:1.75\"><font color=\"black\"> た                    </font></mark><mark style=\"background-color: hsl(120, 75%, 97%); opacity:1.0;                     line-height:1.75\"><font color=\"black\"> .                    </font></mark><mark style=\"background-color: hsl(120, 75%, 98%); opacity:1.0;                     line-height:1.75\"><font color=\"black\"> .                    </font></mark><mark style=\"background-color: hsl(120, 75%, 100%); opacity:1.0;                     line-height:1.75\"><font color=\"black\"> .                    </font></mark><mark style=\"background-color: hsl(0, 75%, 100%); opacity:1.0;                     line-height:1.75\"><font color=\"black\"> [SEP]                    </font></mark></td><tr></table>"
      ],
      "text/plain": [
       "<IPython.core.display.HTML object>"
      ]
     },
     "metadata": {},
     "output_type": "display_data"
    }
   ],
   "source": [
    "input_text = \"この服は着心地が良く、購入して大正解でした！ただ、梱包が悪かった部分は残念でした...\"\n",
    "gold_class = 1\n",
    "\n",
    "igm.visualize_attributions(input_text, gold_class)"
   ]
  }
 ],
 "metadata": {
  "kernelspec": {
   "display_name": "Python 3 (ipykernel)",
   "language": "python",
   "name": "python3"
  },
  "language_info": {
   "codemirror_mode": {
    "name": "ipython",
    "version": 3
   },
   "file_extension": ".py",
   "mimetype": "text/x-python",
   "name": "python",
   "nbconvert_exporter": "python",
   "pygments_lexer": "ipython3",
   "version": "3.9.12"
  }
 },
 "nbformat": 4,
 "nbformat_minor": 5
}
